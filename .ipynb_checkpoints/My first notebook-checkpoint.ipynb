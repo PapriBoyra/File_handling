{
 "cells": [
  {
   "cell_type": "code",
   "execution_count": 1,
   "id": "2d753792-2276-4b7c-aabd-3ab63608cb13",
   "metadata": {},
   "outputs": [],
   "source": [
    "# we will declare a variable (a folder where your data is kept)\n",
    "my_name = 'Papri'\n",
    "greeting = 'Hi, Good evening'"
   ]
  },
  {
   "cell_type": "code",
   "execution_count": 3,
   "id": "792a3756-9d2e-40cc-9f3b-bc5a754204d5",
   "metadata": {},
   "outputs": [
    {
     "name": "stdout",
     "output_type": "stream",
     "text": [
      "Hi, Good evening Papri\n",
      "Hi Papri welcome to the first session of upgrad\n",
      "Hi Papri hope you are going well\n"
     ]
    }
   ],
   "source": [
    "print(f'{greeting} {my_name}')                               # here i am trying to print name and greeeting\n",
    "print(f'Hi {my_name} welcome to the first session of upgrad') # here i am trying to welcome candidate\n",
    "print(f'Hi {my_name} hope you are going well')    "
   ]
  },
  {
   "cell_type": "code",
   "execution_count": null,
   "id": "828f9281-176b-4bd8-915e-a5aebe3b0538",
   "metadata": {},
   "outputs": [],
   "source": []
  }
 ],
 "metadata": {
  "kernelspec": {
   "display_name": "Python 3 (ipykernel)",
   "language": "python",
   "name": "python3"
  },
  "language_info": {
   "codemirror_mode": {
    "name": "ipython",
    "version": 3
   },
   "file_extension": ".py",
   "mimetype": "text/x-python",
   "name": "python",
   "nbconvert_exporter": "python",
   "pygments_lexer": "ipython3",
   "version": "3.12.4"
  }
 },
 "nbformat": 4,
 "nbformat_minor": 5
}
